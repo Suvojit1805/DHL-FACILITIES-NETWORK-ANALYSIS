{
 "cells": [
  {
   "cell_type": "markdown",
   "id": "e4ec522b-414e-485d-93b4-2f79f995e288",
   "metadata": {},
   "source": [
    "### DATA INGESTION AND QUALITY PROFILING###"
   ]
  },
  {
   "cell_type": "markdown",
   "id": "23939916-d8a5-4118-ae6c-748df4c3e8b7",
   "metadata": {},
   "source": [
    "### 1.1. Load and Inspect###"
   ]
  },
  {
   "cell_type": "code",
   "execution_count": 3,
   "id": "0afd4df9-f70d-49bd-9b0d-908d92f271eb",
   "metadata": {},
   "outputs": [],
   "source": [
    "import pandas as pd"
   ]
  },
  {
   "cell_type": "code",
   "execution_count": 4,
   "id": "bcaa833d-c990-4fb0-9499-917124936352",
   "metadata": {},
   "outputs": [],
   "source": [
    "#Load the dataset"
   ]
  },
  {
   "cell_type": "code",
   "execution_count": 15,
   "id": "c48c33a1-e3cb-43b4-b85d-ebd404996eb3",
   "metadata": {},
   "outputs": [],
   "source": [
    "df=pd.read_csv('Desktop/DHL_Facilities.csv')"
   ]
  },
  {
   "cell_type": "code",
   "execution_count": 16,
   "id": "82599656-7655-4420-9f70-5dc1eceeaea8",
   "metadata": {},
   "outputs": [],
   "source": [
    "#Display data types and record count"
   ]
  },
  {
   "cell_type": "code",
   "execution_count": 17,
   "id": "4a220c80-b884-451d-a70e-e6f84e95f8ac",
   "metadata": {},
   "outputs": [
    {
     "name": "stdout",
     "output_type": "stream",
     "text": [
      "<class 'pandas.core.frame.DataFrame'>\n",
      "RangeIndex: 24072 entries, 0 to 24071\n",
      "Data columns (total 18 columns):\n",
      " #   Column        Non-Null Count  Dtype  \n",
      "---  ------        --------------  -----  \n",
      " 0   X             24072 non-null  float64\n",
      " 1   Y             24072 non-null  float64\n",
      " 2   OBJECTID      24072 non-null  int64  \n",
      " 3   FEATURE_ID    24072 non-null  int64  \n",
      " 4   NAME          24072 non-null  object \n",
      " 5   ADDRESS       24072 non-null  object \n",
      " 6   ADDRESS2      24072 non-null  object \n",
      " 7   CITY          24072 non-null  object \n",
      " 8   STATE         24072 non-null  object \n",
      " 9   ZIP           24072 non-null  int64  \n",
      " 10  LATITUDE      24072 non-null  float64\n",
      " 11  LONGITUDE     24072 non-null  float64\n",
      " 12  MATCH_STATUS  24072 non-null  object \n",
      " 13  PLACEMENT     24072 non-null  object \n",
      " 14  CENSUS_CODE   24072 non-null  object \n",
      " 15  LAST_PICKUP   24072 non-null  object \n",
      " 16  LOCATION_TY   24072 non-null  object \n",
      " 17  LOCATION_TH   24072 non-null  object \n",
      "dtypes: float64(4), int64(3), object(11)\n",
      "memory usage: 3.3+ MB\n",
      "None\n"
     ]
    }
   ],
   "source": [
    "print(df.info())"
   ]
  },
  {
   "cell_type": "code",
   "execution_count": 18,
   "id": "3cd09d0d-2a3c-465a-b647-9cef2c3e23d1",
   "metadata": {},
   "outputs": [
    {
     "name": "stdout",
     "output_type": "stream",
     "text": [
      "Total Records:24072\n"
     ]
    }
   ],
   "source": [
    "print(f\"Total Records:{len(df)}\")"
   ]
  },
  {
   "cell_type": "markdown",
   "id": "5e1a93c5-63e6-4a23-be18-4ff7aafe544a",
   "metadata": {},
   "source": [
    "### 1.2 Missing and Anamoly Detection ###"
   ]
  },
  {
   "cell_type": "code",
   "execution_count": 19,
   "id": "8a0f4319-3060-467d-ae0b-23b0be68ca38",
   "metadata": {},
   "outputs": [],
   "source": [
    "import seaborn as sns"
   ]
  },
  {
   "cell_type": "code",
   "execution_count": 20,
   "id": "a1ee8f08-8dc7-4d87-af81-e1023021c212",
   "metadata": {},
   "outputs": [],
   "source": [
    "import matplotlib.pyplot as plt"
   ]
  },
  {
   "cell_type": "code",
   "execution_count": 21,
   "id": "9f7a6f2a-819e-4529-8ac3-8972cebf6ca3",
   "metadata": {},
   "outputs": [],
   "source": [
    "#Quantify nulls per column"
   ]
  },
  {
   "cell_type": "code",
   "execution_count": 23,
   "id": "0c36cee3-05f6-4772-813b-17ecb2465430",
   "metadata": {},
   "outputs": [],
   "source": [
    "null_counts=df.isnull().sum()"
   ]
  },
  {
   "cell_type": "code",
   "execution_count": 24,
   "id": "77e22f00-8133-416e-b113-3628768da76a",
   "metadata": {},
   "outputs": [
    {
     "name": "stdout",
     "output_type": "stream",
     "text": [
      "X               0\n",
      "Y               0\n",
      "OBJECTID        0\n",
      "FEATURE_ID      0\n",
      "NAME            0\n",
      "ADDRESS         0\n",
      "ADDRESS2        0\n",
      "CITY            0\n",
      "STATE           0\n",
      "ZIP             0\n",
      "LATITUDE        0\n",
      "LONGITUDE       0\n",
      "MATCH_STATUS    0\n",
      "PLACEMENT       0\n",
      "CENSUS_CODE     0\n",
      "LAST_PICKUP     0\n",
      "LOCATION_TY     0\n",
      "LOCATION_TH     0\n",
      "dtype: int64\n"
     ]
    }
   ],
   "source": [
    "print(null_counts)"
   ]
  },
  {
   "cell_type": "code",
   "execution_count": 25,
   "id": "eec65000-440c-4e5a-9c61-f35064b1ab1d",
   "metadata": {},
   "outputs": [],
   "source": [
    "#Visualise null values"
   ]
  },
  {
   "cell_type": "code",
   "execution_count": 27,
   "id": "a7d81bc6-ca0f-4676-ba3a-d94dd55f3f80",
   "metadata": {},
   "outputs": [
    {
     "data": {
      "text/plain": [
       "<Figure size 1200x600 with 0 Axes>"
      ]
     },
     "execution_count": 27,
     "metadata": {},
     "output_type": "execute_result"
    },
    {
     "data": {
      "text/plain": [
       "<Figure size 1200x600 with 0 Axes>"
      ]
     },
     "metadata": {},
     "output_type": "display_data"
    }
   ],
   "source": [
    "plt.figure(figsize=(12,6))\n"
   ]
  },
  {
   "cell_type": "code",
   "execution_count": 28,
   "id": "ef933b4f-ad59-4911-90a0-c32a5656460d",
   "metadata": {},
   "outputs": [
    {
     "data": {
      "text/plain": [
       "<Axes: xlabel='None'>"
      ]
     },
     "execution_count": 28,
     "metadata": {},
     "output_type": "execute_result"
    },
    {
     "data": {
      "image/png": "[encoded data removed]",
      "text/plain": [
       "<Figure size 640x480 with 1 Axes>"
      ]
     },
     "metadata": {},
     "output_type": "display_data"
    }
   ],
   "source": [
    "sns.barplot(x=null_counts.index, y=null_counts.values)"
   ]
  },
  {
   "cell_type": "code",
   "execution_count": 29,
   "id": "544250a9-2d42-44de-af2d-c77719c0914f",
   "metadata": {},
   "outputs": [
    {
     "data": {
      "text/plain": [
       "(array([0. , 0.2, 0.4, 0.6, 0.8, 1. ]),\n",
       " [Text(0.0, 0, '0.0'),\n",
       "  Text(0.2, 0, '0.2'),\n",
       "  Text(0.4, 0, '0.4'),\n",
       "  Text(0.6000000000000001, 0, '0.6'),\n",
       "  Text(0.8, 0, '0.8'),\n",
       "  Text(1.0, 0, '1.0')])"
      ]
     },
     "execution_count": 29,
     "metadata": {},
     "output_type": "execute_result"
    },
    {
     "data": {
      "image/png": "[encoded data removed]",
      "text/plain": [
       "<Figure size 640x480 with 1 Axes>"
      ]
     },
     "metadata": {},
     "output_type": "display_data"
    }
   ],
   "source": [
    "plt.xticks(rotation=90)"
   ]
  },
  {
   "cell_type": "code",
   "execution_count": 30,
   "id": "ab210b30-31a5-4cd0-bccf-f94150ccdd8f",
   "metadata": {},
   "outputs": [
    {
     "data": {
      "text/plain": [
       "Text(0.5, 1.0, 'Missing Values Per Column')"
      ]
     },
     "execution_count": 30,
     "metadata": {},
     "output_type": "execute_result"
    },
    {
     "data": {
      "image/png": "[encoded data removed]",
      "text/plain": [
       "<Figure size 640x480 with 1 Axes>"
      ]
     },
     "metadata": {},
     "output_type": "display_data"
    }
   ],
   "source": [
    "plt.title(\"Missing Values Per Column\")"
   ]
  },
  {
   "cell_type": "code",
   "execution_count": 33,
   "id": "aaeb67b8-083b-4e88-9fae-32adb576185e",
   "metadata": {},
   "outputs": [],
   "source": [
    "plt.show()"
   ]
  },
  {
   "cell_type": "code",
   "execution_count": 34,
   "id": "4c28a672-03ef-4ac1-bad3-1f0164f3e2d3",
   "metadata": {},
   "outputs": [],
   "source": [
    "#Assuming ZIP column is named 'ZIP'\n"
   ]
  },
  {
   "cell_type": "code",
   "execution_count": 38,
   "id": "b799789d-4adb-497b-91d3-dbe9b99fb8f6",
   "metadata": {},
   "outputs": [],
   "source": [
    "invalid_zips=df[~df['ZIP'].astype(str).str.match(r'^\\d{5}$')]"
   ]
  },
  {
   "cell_type": "code",
   "execution_count": 39,
   "id": "4879b2d3-40a3-4e88-833c-0acf4bdc57b0",
   "metadata": {},
   "outputs": [
    {
     "name": "stdout",
     "output_type": "stream",
     "text": [
      "Invalid ZIP codes:\n",
      "    ZIP\n",
      "1  3431\n",
      "2  3431\n",
      "3  3431\n",
      "4  3743\n",
      "5  5907\n"
     ]
    }
   ],
   "source": [
    "print(f\"Invalid ZIP codes:\\n{invalid_zips[['ZIP']].head()}\")"
   ]
  },
  {
   "cell_type": "code",
   "execution_count": 15,
   "id": "728b518e-c30c-4ff2-a1f5-e9640178fe44",
   "metadata": {},
   "outputs": [],
   "source": [
    "#Match Status Summary"
   ]
  },
  {
   "cell_type": "code",
   "execution_count": 1,
   "id": "a4d26d52-3a18-4c38-9e4f-9be9b408d5d0",
   "metadata": {},
   "outputs": [
    {
     "name": "stdout",
     "output_type": "stream",
     "text": [
      "\n",
      "---MATCH_STATUS Value Counts---\n"
     ]
    }
   ],
   "source": [
    "print(\"\\n---MATCH_STATUS Value Counts---\")\n"
   ]
  },
  {
   "cell_type": "code",
   "execution_count": 5,
   "id": "5574b99d-dbf5-420f-a357-047427ec4dc8",
   "metadata": {},
   "outputs": [],
   "source": [
    "import pandas as pd"
   ]
  },
  {
   "cell_type": "code",
   "execution_count": 6,
   "id": "e26f9036-fd67-4891-b291-7a5ae1c7871e",
   "metadata": {},
   "outputs": [],
   "source": [
    "df=pd.read_csv('Desktop/DHL_Facilities.csv')"
   ]
  },
  {
   "cell_type": "code",
   "execution_count": 7,
   "id": "693e27b0-3abd-4adc-ac7b-a5485a43dd36",
   "metadata": {},
   "outputs": [
    {
     "data": {
      "text/html": [
       "<div>\n",
       "<style scoped>\n",
       "    .dataframe tbody tr th:only-of-type {\n",
       "        vertical-align: middle;\n",
       "    }\n",
       "\n",
       "    .dataframe tbody tr th {\n",
       "        vertical-align: top;\n",
       "    }\n",
       "\n",
       "    .dataframe thead th {\n",
       "        text-align: right;\n",
       "    }\n",
       "</style>\n",
       "<table border=\"1\" class=\"dataframe\">\n",
       "  <thead>\n",
       "    <tr style=\"text-align: right;\">\n",
       "      <th></th>\n",
       "      <th>X</th>\n",
       "      <th>Y</th>\n",
       "      <th>OBJECTID</th>\n",
       "      <th>FEATURE_ID</th>\n",
       "      <th>NAME</th>\n",
       "      <th>ADDRESS</th>\n",
       "      <th>ADDRESS2</th>\n",
       "      <th>CITY</th>\n",
       "      <th>STATE</th>\n",
       "      <th>ZIP</th>\n",
       "      <th>LATITUDE</th>\n",
       "      <th>LONGITUDE</th>\n",
       "      <th>MATCH_STATUS</th>\n",
       "      <th>PLACEMENT</th>\n",
       "      <th>CENSUS_CODE</th>\n",
       "      <th>LAST_PICKUP</th>\n",
       "      <th>LOCATION_TY</th>\n",
       "      <th>LOCATION_TH</th>\n",
       "    </tr>\n",
       "  </thead>\n",
       "  <tbody>\n",
       "    <tr>\n",
       "      <th>0</th>\n",
       "      <td>-1.120834e+07</td>\n",
       "      <td>5.030051e+06</td>\n",
       "      <td>1</td>\n",
       "      <td>2093</td>\n",
       "      <td>DHL STATION</td>\n",
       "      <td>5120 EAST LEE BIRD RD</td>\n",
       "      <td>NOT AVAILABLE</td>\n",
       "      <td>NORTH PLATTE</td>\n",
       "      <td>NE</td>\n",
       "      <td>69101</td>\n",
       "      <td>41.119952</td>\n",
       "      <td>-100.686217</td>\n",
       "      <td>OK</td>\n",
       "      <td>On Road</td>\n",
       "      <td>Not Available</td>\n",
       "      <td>3:00 Pm [M-F]\\r\\nno Sat Pickup</td>\n",
       "      <td>Drop Box</td>\n",
       "      <td>Drop Box and Drop Off Facility</td>\n",
       "    </tr>\n",
       "    <tr>\n",
       "      <th>1</th>\n",
       "      <td>-8.043436e+06</td>\n",
       "      <td>5.299085e+06</td>\n",
       "      <td>2</td>\n",
       "      <td>2293</td>\n",
       "      <td>PC CONNECTION</td>\n",
       "      <td>450 MARLBORO ST</td>\n",
       "      <td>NOT AVAILABLE</td>\n",
       "      <td>KEENE</td>\n",
       "      <td>NH</td>\n",
       "      <td>3431</td>\n",
       "      <td>42.915280</td>\n",
       "      <td>-72.255417</td>\n",
       "      <td>OK</td>\n",
       "      <td>Not Available</td>\n",
       "      <td>330059711001024</td>\n",
       "      <td>6:30 Pm [M-F]\\r\\nno Sat Pickup</td>\n",
       "      <td>Drop Box</td>\n",
       "      <td>Drop Box and Drop Off Facility</td>\n",
       "    </tr>\n",
       "    <tr>\n",
       "      <th>2</th>\n",
       "      <td>-8.045972e+06</td>\n",
       "      <td>5.301971e+06</td>\n",
       "      <td>3</td>\n",
       "      <td>2294</td>\n",
       "      <td>20 CENTRAL SQ</td>\n",
       "      <td>20 CENTRAL SQ</td>\n",
       "      <td>NOT AVAILABLE</td>\n",
       "      <td>KEENE</td>\n",
       "      <td>NH</td>\n",
       "      <td>3431</td>\n",
       "      <td>42.934262</td>\n",
       "      <td>-72.278195</td>\n",
       "      <td>OK</td>\n",
       "      <td>Not Available</td>\n",
       "      <td>330059713003015</td>\n",
       "      <td>5:00 Pm [M-F]\\r\\nno Sat Pickup</td>\n",
       "      <td>Drop Box</td>\n",
       "      <td>Drop Box and Drop Off Facility</td>\n",
       "    </tr>\n",
       "    <tr>\n",
       "      <th>3</th>\n",
       "      <td>-8.046142e+06</td>\n",
       "      <td>5.301455e+06</td>\n",
       "      <td>4</td>\n",
       "      <td>2299</td>\n",
       "      <td>SHIPPING SHACK</td>\n",
       "      <td>63 EMERALD ST</td>\n",
       "      <td>NOT AVAILABLE</td>\n",
       "      <td>KEENE</td>\n",
       "      <td>NH</td>\n",
       "      <td>3431</td>\n",
       "      <td>42.930868</td>\n",
       "      <td>-72.279720</td>\n",
       "      <td>OK</td>\n",
       "      <td>Not Available</td>\n",
       "      <td>330059714011009</td>\n",
       "      <td>5:00 Pm [M-F]\\r\\nno Sat Pickup</td>\n",
       "      <td>DHL Authorized Shipping Center</td>\n",
       "      <td>DHL Authorized Shipping Center</td>\n",
       "    </tr>\n",
       "    <tr>\n",
       "      <th>4</th>\n",
       "      <td>-8.053022e+06</td>\n",
       "      <td>5.367961e+06</td>\n",
       "      <td>5</td>\n",
       "      <td>2597</td>\n",
       "      <td>CLAREMONT LOCK &amp; KEY</td>\n",
       "      <td>159 PLEASANT ST</td>\n",
       "      <td>NOT AVAILABLE</td>\n",
       "      <td>CLAREMONT</td>\n",
       "      <td>NH</td>\n",
       "      <td>3743</td>\n",
       "      <td>43.366740</td>\n",
       "      <td>-72.341526</td>\n",
       "      <td>OK</td>\n",
       "      <td>Not Available</td>\n",
       "      <td>330199759022015</td>\n",
       "      <td>3:00 Pm [M-F]\\r\\n12:00 Pm [Sat]</td>\n",
       "      <td>DHL Authorized Shipping Center</td>\n",
       "      <td>DHL Authorized Shipping Center</td>\n",
       "    </tr>\n",
       "  </tbody>\n",
       "</table>\n",
       "</div>"
      ],
      "text/plain": [
       "              X             Y  OBJECTID  FEATURE_ID                  NAME  \\\n",
       "0 -1.120834e+07  5.030051e+06         1        2093           DHL STATION   \n",
       "1 -8.043436e+06  5.299085e+06         2        2293         PC CONNECTION   \n",
       "2 -8.045972e+06  5.301971e+06         3        2294         20 CENTRAL SQ   \n",
       "3 -8.046142e+06  5.301455e+06         4        2299        SHIPPING SHACK   \n",
       "4 -8.053022e+06  5.367961e+06         5        2597  CLAREMONT LOCK & KEY   \n",
       "\n",
       "                 ADDRESS       ADDRESS2          CITY STATE    ZIP   LATITUDE  \\\n",
       "0  5120 EAST LEE BIRD RD  NOT AVAILABLE  NORTH PLATTE    NE  69101  41.119952   \n",
       "1        450 MARLBORO ST  NOT AVAILABLE         KEENE    NH   3431  42.915280   \n",
       "2          20 CENTRAL SQ  NOT AVAILABLE         KEENE    NH   3431  42.934262   \n",
       "3          63 EMERALD ST  NOT AVAILABLE         KEENE    NH   3431  42.930868   \n",
       "4        159 PLEASANT ST  NOT AVAILABLE     CLAREMONT    NH   3743  43.366740   \n",
       "\n",
       "    LONGITUDE MATCH_STATUS      PLACEMENT      CENSUS_CODE  \\\n",
       "0 -100.686217           OK        On Road    Not Available   \n",
       "1  -72.255417           OK  Not Available  330059711001024   \n",
       "2  -72.278195           OK  Not Available  330059713003015   \n",
       "3  -72.279720           OK  Not Available  330059714011009   \n",
       "4  -72.341526           OK  Not Available  330199759022015   \n",
       "\n",
       "                       LAST_PICKUP                     LOCATION_TY  \\\n",
       "0   3:00 Pm [M-F]\\r\\nno Sat Pickup                        Drop Box   \n",
       "1   6:30 Pm [M-F]\\r\\nno Sat Pickup                        Drop Box   \n",
       "2   5:00 Pm [M-F]\\r\\nno Sat Pickup                        Drop Box   \n",
       "3   5:00 Pm [M-F]\\r\\nno Sat Pickup  DHL Authorized Shipping Center   \n",
       "4  3:00 Pm [M-F]\\r\\n12:00 Pm [Sat]  DHL Authorized Shipping Center   \n",
       "\n",
       "                      LOCATION_TH  \n",
       "0  Drop Box and Drop Off Facility  \n",
       "1  Drop Box and Drop Off Facility  \n",
       "2  Drop Box and Drop Off Facility  \n",
       "3  DHL Authorized Shipping Center  \n",
       "4  DHL Authorized Shipping Center  "
      ]
     },
     "execution_count": 7,
     "metadata": {},
     "output_type": "execute_result"
    }
   ],
   "source": [
    "df.head()"
   ]
  },
  {
   "cell_type": "code",
   "execution_count": 8,
   "id": "f42b1097-00e5-49c6-8131-d1bd6a43c01e",
   "metadata": {},
   "outputs": [],
   "source": [
    "#Summarise Match Status Categories"
   ]
  },
  {
   "cell_type": "code",
   "execution_count": 9,
   "id": "982862a7-3f82-40a9-86f9-1e41aa3d3ce4",
   "metadata": {},
   "outputs": [
    {
     "data": {
      "text/plain": [
       "MATCH_STATUS\n",
       "OK                22526\n",
       "Zip Centroid       1469\n",
       "To Intersect         61\n",
       "From Intersect       16\n",
       "Name: count, dtype: int64"
      ]
     },
     "execution_count": 9,
     "metadata": {},
     "output_type": "execute_result"
    }
   ],
   "source": [
    "df['MATCH_STATUS'].value_counts()"
   ]
  },
  {
   "cell_type": "code",
   "execution_count": null,
   "id": "417754c8-da39-4706-8669-df28fe6587f7",
   "metadata": {},
   "outputs": [],
   "source": [
    "#Check for missing Latitude/Longitude"
   ]
  },
  {
   "cell_type": "code",
   "execution_count": 11,
   "id": "aefc57fe-e984-4e32-8676-7f35cf22138c",
   "metadata": {},
   "outputs": [],
   "source": [
    "missing_geo=df[(df['LATITUDE'].isnull()) | (df['LONGITUDE'].isnull())]\n"
   ]
  },
  {
   "cell_type": "code",
   "execution_count": 13,
   "id": "fb8e5882-fcc9-42e5-83bb-aad8630aae57",
   "metadata": {},
   "outputs": [
    {
     "name": "stdout",
     "output_type": "stream",
     "text": [
      "Facilities without geo coordinates: 0\n"
     ]
    },
    {
     "data": {
      "text/html": [
       "<div>\n",
       "<style scoped>\n",
       "    .dataframe tbody tr th:only-of-type {\n",
       "        vertical-align: middle;\n",
       "    }\n",
       "\n",
       "    .dataframe tbody tr th {\n",
       "        vertical-align: top;\n",
       "    }\n",
       "\n",
       "    .dataframe thead th {\n",
       "        text-align: right;\n",
       "    }\n",
       "</style>\n",
       "<table border=\"1\" class=\"dataframe\">\n",
       "  <thead>\n",
       "    <tr style=\"text-align: right;\">\n",
       "      <th></th>\n",
       "      <th>X</th>\n",
       "      <th>Y</th>\n",
       "      <th>OBJECTID</th>\n",
       "      <th>FEATURE_ID</th>\n",
       "      <th>NAME</th>\n",
       "      <th>ADDRESS</th>\n",
       "      <th>ADDRESS2</th>\n",
       "      <th>CITY</th>\n",
       "      <th>STATE</th>\n",
       "      <th>ZIP</th>\n",
       "      <th>LATITUDE</th>\n",
       "      <th>LONGITUDE</th>\n",
       "      <th>MATCH_STATUS</th>\n",
       "      <th>PLACEMENT</th>\n",
       "      <th>CENSUS_CODE</th>\n",
       "      <th>LAST_PICKUP</th>\n",
       "      <th>LOCATION_TY</th>\n",
       "      <th>LOCATION_TH</th>\n",
       "    </tr>\n",
       "  </thead>\n",
       "  <tbody>\n",
       "  </tbody>\n",
       "</table>\n",
       "</div>"
      ],
      "text/plain": [
       "Empty DataFrame\n",
       "Columns: [X, Y, OBJECTID, FEATURE_ID, NAME, ADDRESS, ADDRESS2, CITY, STATE, ZIP, LATITUDE, LONGITUDE, MATCH_STATUS, PLACEMENT, CENSUS_CODE, LAST_PICKUP, LOCATION_TY, LOCATION_TH]\n",
       "Index: []"
      ]
     },
     "execution_count": 13,
     "metadata": {},
     "output_type": "execute_result"
    }
   ],
   "source": [
    "print(\"Facilities without geo coordinates:\",len(missing_geo))\n",
    "missing_geo.head()"
   ]
  },
  {
   "cell_type": "markdown",
   "id": "838b1f29-b667-4af4-a3fb-ab86dc3c0b87",
   "metadata": {},
   "source": [
    "### GEOGRAPHIC DISTRIBUTION AND CLUSTERING###"
   ]
  },
  {
   "cell_type": "markdown",
   "id": "f83d0390-2982-42a7-b12f-eb7335d2ce3b",
   "metadata": {},
   "source": [
    "### 2.1 FACILITY COUNT BY STATE###"
   ]
  },
  {
   "cell_type": "code",
   "execution_count": null,
   "id": "6790e8aa-91db-4d56-b897-66cf398dc377",
   "metadata": {},
   "outputs": [],
   "source": [
    "#Facility count by state"
   ]
  },
  {
   "cell_type": "code",
   "execution_count": 16,
   "id": "e2911a85-8d43-4820-a3e2-d105c0abc4fc",
   "metadata": {},
   "outputs": [],
   "source": [
    "state_counts=df['STATE'].value_counts()"
   ]
  },
  {
   "cell_type": "code",
   "execution_count": 17,
   "id": "a6130111-67ef-49eb-926e-30475b638c15",
   "metadata": {},
   "outputs": [],
   "source": [
    "#Top 10 States"
   ]
  },
  {
   "cell_type": "code",
   "execution_count": 18,
   "id": "71ca68cf-3f85-41f8-93e7-298bfd09c07d",
   "metadata": {},
   "outputs": [
    {
     "data": {
      "text/plain": [
       "STATE\n",
       "TX    2223\n",
       "FL    2101\n",
       "CA    2004\n",
       "IL    1336\n",
       "OH    1260\n",
       "PA    1077\n",
       "NJ    1075\n",
       "NY    1072\n",
       "GA     986\n",
       "MI     879\n",
       "Name: count, dtype: int64"
      ]
     },
     "execution_count": 18,
     "metadata": {},
     "output_type": "execute_result"
    }
   ],
   "source": [
    "state_counts.head(10)"
   ]
  },
  {
   "cell_type": "code",
   "execution_count": 19,
   "id": "54b27375-07e6-4594-ad1c-19ea4255b2a7",
   "metadata": {},
   "outputs": [],
   "source": [
    "#Bottom 10 states"
   ]
  },
  {
   "cell_type": "code",
   "execution_count": 20,
   "id": "97a2b14e-2333-47f5-9fdf-c432088e9eb8",
   "metadata": {},
   "outputs": [
    {
     "data": {
      "text/plain": [
       "STATE\n",
       "DE    57\n",
       "MT    55\n",
       "ME    52\n",
       "HI    51\n",
       "RI    40\n",
       "SD    37\n",
       "ND    26\n",
       "VT    24\n",
       "WY    20\n",
       "AK    14\n",
       "Name: count, dtype: int64"
      ]
     },
     "execution_count": 20,
     "metadata": {},
     "output_type": "execute_result"
    }
   ],
   "source": [
    "state_counts.tail(10)"
   ]
  },
  {
   "cell_type": "markdown",
   "id": "e42c232b-9f17-450c-ac7b-5eafa9d0eaa6",
   "metadata": {},
   "source": [
    "### CATEGORICAL AND OPERATIONAL INSIGHTS###"
   ]
  },
  {
   "cell_type": "markdown",
   "id": "f2fcce4d-8937-48f2-b588-ea9b06cd4a3c",
   "metadata": {},
   "source": [
    "### 3.1 TYPE AND PLACEMENT MIX###\n"
   ]
  },
  {
   "cell_type": "code",
   "execution_count": 21,
   "id": "a1ee2d73-dd88-450a-ac83-bb791ef781a5",
   "metadata": {},
   "outputs": [],
   "source": [
    "#Group data"
   ]
  },
  {
   "cell_type": "code",
   "execution_count": 25,
   "id": "20aa3187-0f5d-46eb-855f-fbedb1454bc6",
   "metadata": {},
   "outputs": [],
   "source": [
    "import matplotlib.pyplot as plt"
   ]
  },
  {
   "cell_type": "code",
   "execution_count": 22,
   "id": "c1623dc0-3418-4097-83e1-51c645ff17d2",
   "metadata": {},
   "outputs": [],
   "source": [
    "placement_mix=pd.crosstab(df['PLACEMENT'], df['LOCATION_TY'])"
   ]
  },
  {
   "cell_type": "code",
   "execution_count": 23,
   "id": "b8241912-6bde-4bab-8540-d1668a38637c",
   "metadata": {},
   "outputs": [],
   "source": [
    "#Plot"
   ]
  },
  {
   "cell_type": "code",
   "execution_count": 27,
   "id": "f4ce12ad-73d4-40e6-b7cd-893248dedbb7",
   "metadata": {},
   "outputs": [
    {
     "data": {
      "image/png": "[encoded data removed]",
      "text/plain": [
       "<Figure size 1200x600 with 1 Axes>"
      ]
     },
     "metadata": {},
     "output_type": "display_data"
    }
   ],
   "source": [
    "placement_mix.plot(kind='bar', stacked=True, figsize=(12,6))\n",
    "plt.title(\"Facility Type Distribution within Placement Categories\")\n",
    "plt.ylabel(\"Count\")\n",
    "plt.show()"
   ]
  },
  {
   "cell_type": "code",
   "execution_count": null,
   "id": "eb078788-9a4e-46b9-b719-64c3480d81df",
   "metadata": {},
   "outputs": [],
   "source": []
  },
  {
   "cell_type": "code",
   "execution_count": 28,
   "id": "377a0ce4-a0cc-433a-b0c4-0f10a3c254b3",
   "metadata": {},
   "outputs": [],
   "source": [
    "#Find Top 3 states by count"
   ]
  },
  {
   "cell_type": "code",
   "execution_count": 29,
   "id": "7bf0a032-69a9-49e3-b3d4-14cfc9a1c151",
   "metadata": {},
   "outputs": [],
   "source": [
    "top_states=df['STATE'].value_counts().head(3).index.tolist()"
   ]
  },
  {
   "cell_type": "code",
   "execution_count": 30,
   "id": "bf376f18-cb59-4df0-9ebf-a62681b92605",
   "metadata": {},
   "outputs": [],
   "source": [
    "#Filter data"
   ]
  },
  {
   "cell_type": "code",
   "execution_count": 31,
   "id": "91cadd00-0916-458e-9daf-5498621b269b",
   "metadata": {},
   "outputs": [],
   "source": [
    "top_states_df=df[df['STATE'].isin(top_states)]"
   ]
  },
  {
   "cell_type": "code",
   "execution_count": 32,
   "id": "a9f299a1-2efb-498d-b148-d3f619b5d5cb",
   "metadata": {},
   "outputs": [],
   "source": [
    "#Crosstab and Plot"
   ]
  },
  {
   "cell_type": "code",
   "execution_count": 33,
   "id": "04da2549-fdee-4be2-afc8-44e36221a724",
   "metadata": {},
   "outputs": [
    {
     "data": {
      "image/png": "[encoded data removed]",
      "text/plain": [
       "<Figure size 640x480 with 1 Axes>"
      ]
     },
     "metadata": {},
     "output_type": "display_data"
    }
   ],
   "source": [
    "pd.crosstab(top_states_df['STATE'], top_states_df['PLACEMENT']).plot(kind='bar', stacked=True)\n",
    "plt.title(\"Placement Category Distribution in Top 3 States\")\n",
    "plt.ylabel(\"Count\")\n",
    "plt.show()\n"
   ]
  },
  {
   "cell_type": "markdown",
   "id": "8ffdebe9-9a23-486d-a21c-2460b2136c44",
   "metadata": {},
   "source": [
    "### 3.2 Status Analysis###"
   ]
  },
  {
   "cell_type": "code",
   "execution_count": 34,
   "id": "3692b41e-a18c-4730-95e4-16b028d5f12a",
   "metadata": {},
   "outputs": [],
   "source": [
    "#Inactive facility rate by state"
   ]
  },
  {
   "cell_type": "code",
   "execution_count": 39,
   "id": "50abe6f1-2fa7-482b-9143-36ea90030cd6",
   "metadata": {},
   "outputs": [],
   "source": [
    "inactive_rate= df.groupby('STATE')['MATCH_STATUS'].apply(lambda x: (x == 'Inactive').mean() * 100)"
   ]
  },
  {
   "cell_type": "code",
   "execution_count": 40,
   "id": "19455e6c-e698-4f50-9f2b-ca706fcdea2e",
   "metadata": {},
   "outputs": [],
   "source": [
    "#Sort and Plot"
   ]
  },
  {
   "cell_type": "code",
   "execution_count": 41,
   "id": "295e119a-75e3-4c1e-b414-146ab7588899",
   "metadata": {},
   "outputs": [
    {
     "data": {
      "image/png": "[encoded data removed]",
      "text/plain": [
       "<Figure size 1200x600 with 1 Axes>"
      ]
     },
     "metadata": {},
     "output_type": "display_data"
    }
   ],
   "source": [
    "inactive_rate.sort_values(ascending=False).plot(kind='bar',figsize=(12,6))\n",
    "plt.title(\"Inactive Facility Rateby State (%)\")\n",
    "plt.ylabel(\"Inactive Rate (%)\")\n",
    "plt.show()\n"
   ]
  },
  {
   "cell_type": "code",
   "execution_count": 42,
   "id": "b5abe8c9-4471-4092-a8c1-cfcdbad332ab",
   "metadata": {},
   "outputs": [],
   "source": [
    "#Cross-tab STATUS vs. LOCATION_TY"
   ]
  },
  {
   "cell_type": "code",
   "execution_count": 44,
   "id": "c91d2d32-7e6c-452f-9e7b-d7018249b279",
   "metadata": {},
   "outputs": [
    {
     "data": {
      "image/png": "[encoded data removed]",
      "text/plain": [
       "<Figure size 640x480 with 1 Axes>"
      ]
     },
     "metadata": {},
     "output_type": "display_data"
    }
   ],
   "source": [
    "pd.crosstab(df['MATCH_STATUS'], df['LOCATION_TY']).plot(kind='bar',stacked=True)\n",
    "plt.title(\"Facility Status vs Type\")\n",
    "plt.ylabel(\"Count\")\n",
    "plt.show()"
   ]
  },
  {
   "cell_type": "markdown",
   "id": "8b71708d-f0de-4877-95e2-9ee23b7f3357",
   "metadata": {},
   "source": [
    "### 4.TEMPORAL AND UTILIZATION TRENDS"
   ]
  },
  {
   "cell_type": "markdown",
   "id": "13873ee8-7118-49fb-94c1-1727e819dad0",
   "metadata": {},
   "source": [
    "### 4.1 Pickup Activity Patterns"
   ]
  },
  {
   "cell_type": "code",
   "execution_count": 45,
   "id": "63d15da6-20a5-4398-9301-3c24226846b2",
   "metadata": {},
   "outputs": [],
   "source": [
    "#Convert LAST_PICKUP to datetime"
   ]
  },
  {
   "cell_type": "code",
   "execution_count": 47,
   "id": "b06465f6-6434-42a1-ac07-403dbd223ec6",
   "metadata": {},
   "outputs": [
    {
     "data": {
      "text/plain": [
       "0   NaT\n",
       "1   NaT\n",
       "2   NaT\n",
       "3   NaT\n",
       "4   NaT\n",
       "5   NaT\n",
       "6   NaT\n",
       "7   NaT\n",
       "8   NaT\n",
       "9   NaT\n",
       "Name: LAST_PICKUP, dtype: datetime64[ns]"
      ]
     },
     "execution_count": 47,
     "metadata": {},
     "output_type": "execute_result"
    }
   ],
   "source": [
    "df['LAST_PICKUP'].head(10)"
   ]
  },
  {
   "cell_type": "code",
   "execution_count": 60,
   "id": "ec1e05fd-6c90-491d-86a0-2e295e1ad506",
   "metadata": {
    "scrolled": true
   },
   "outputs": [
    {
     "name": "stdout",
     "output_type": "stream",
     "text": [
      "Index(['X', 'Y', 'OBJECTID', 'FEATURE_ID', 'NAME', 'ADDRESS', 'ADDRESS2',\n",
      "       'CITY', 'STATE', 'ZIP', 'LATITUDE', 'LONGITUDE', 'MATCH_STATUS',\n",
      "       'PLACEMENT', 'CENSUS_CODE', 'LAST_PICKUP', 'LOCATION_TY', 'LOCATION_TH',\n",
      "       'YearMonth'],\n",
      "      dtype='object')\n"
     ]
    }
   ],
   "source": [
    "df.columns=df.columns.str.strip()\n",
    "print(df.columns)"
   ]
  },
  {
   "cell_type": "code",
   "execution_count": 77,
   "id": "bc280f16-4dc0-4cdc-ba42-b7b456fc0116",
   "metadata": {},
   "outputs": [],
   "source": [
    "df['LAST_PICKUP'] = pd.to_datetime(df['YearMonth'], format='%y-%m-%d %H:%M:%S', errors='coerce')\n",
    "\n"
   ]
  },
  {
   "cell_type": "code",
   "execution_count": 49,
   "id": "a9a32397-7628-4303-b8e3-8bb7a2d60b4f",
   "metadata": {},
   "outputs": [],
   "source": [
    "##Monthly Pickup Counts"
   ]
  },
  {
   "cell_type": "code",
   "execution_count": 50,
   "id": "7d5ff4c1-5a64-4c9d-bdba-3d4e9b19995a",
   "metadata": {},
   "outputs": [],
   "source": [
    "#Extract Year and Month"
   ]
  },
  {
   "cell_type": "code",
   "execution_count": 78,
   "id": "37c28c14-de9b-4caa-8ca4-b906b7fe2d8b",
   "metadata": {},
   "outputs": [],
   "source": [
    "df['YearMonth']=df['LAST_PICKUP'].dt.to_period('M')"
   ]
  },
  {
   "cell_type": "code",
   "execution_count": 52,
   "id": "daae0698-a1ef-41da-82bb-e527bc4af1c6",
   "metadata": {},
   "outputs": [],
   "source": [
    "#Count Pickups per month"
   ]
  },
  {
   "cell_type": "code",
   "execution_count": 79,
   "id": "8fcfbd3c-48b9-43cb-8149-3c9c48771f38",
   "metadata": {},
   "outputs": [],
   "source": [
    "pickup_counts=df['YearMonth'].value_counts().sort_index()"
   ]
  },
  {
   "cell_type": "code",
   "execution_count": 54,
   "id": "68eb5f64-59e1-4cce-8d89-ebf36ad44613",
   "metadata": {},
   "outputs": [],
   "source": [
    "#Plot"
   ]
  },
  {
   "cell_type": "code",
   "execution_count": 80,
   "id": "6cc0b733-849c-4bb6-8b56-7f5bfaee8673",
   "metadata": {},
   "outputs": [
    {
     "ename": "IndexError",
     "evalue": "index 0 is out of bounds for axis 0 with size 0",
     "output_type": "error",
     "traceback": [
      "\u001b[1;31m---------------------------------------------------------------------------\u001b[0m",
      "\u001b[1;31mIndexError\u001b[0m                                Traceback (most recent call last)",
      "Cell \u001b[1;32mIn[80], line 1\u001b[0m\n\u001b[1;32m----> 1\u001b[0m pickup_counts\u001b[38;5;241m.\u001b[39mplot(kind\u001b[38;5;241m=\u001b[39m\u001b[38;5;124m'\u001b[39m\u001b[38;5;124mbar\u001b[39m\u001b[38;5;124m'\u001b[39m, figsize\u001b[38;5;241m=\u001b[39m(\u001b[38;5;241m14\u001b[39m,\u001b[38;5;241m6\u001b[39m))\n\u001b[0;32m      2\u001b[0m plt\u001b[38;5;241m.\u001b[39mtitle(\u001b[38;5;124m\"\u001b[39m\u001b[38;5;124mMonthly Pickup Counts\u001b[39m\u001b[38;5;124m\"\u001b[39m)\n\u001b[0;32m      3\u001b[0m plt\u001b[38;5;241m.\u001b[39mylabel(\u001b[38;5;124m\"\u001b[39m\u001b[38;5;124mCount\u001b[39m\u001b[38;5;124m\"\u001b[39m)\n",
      "File \u001b[1;32m~\\anaconda3\\Lib\\site-packages\\pandas\\plotting\\_core.py:1030\u001b[0m, in \u001b[0;36mPlotAccessor.__call__\u001b[1;34m(self, *args, **kwargs)\u001b[0m\n\u001b[0;32m   1027\u001b[0m             label_name \u001b[38;5;241m=\u001b[39m label_kw \u001b[38;5;129;01mor\u001b[39;00m data\u001b[38;5;241m.\u001b[39mcolumns\n\u001b[0;32m   1028\u001b[0m             data\u001b[38;5;241m.\u001b[39mcolumns \u001b[38;5;241m=\u001b[39m label_name\n\u001b[1;32m-> 1030\u001b[0m \u001b[38;5;28;01mreturn\u001b[39;00m plot_backend\u001b[38;5;241m.\u001b[39mplot(data, kind\u001b[38;5;241m=\u001b[39mkind, \u001b[38;5;241m*\u001b[39m\u001b[38;5;241m*\u001b[39mkwargs)\n",
      "File \u001b[1;32m~\\anaconda3\\Lib\\site-packages\\pandas\\plotting\\_matplotlib\\__init__.py:71\u001b[0m, in \u001b[0;36mplot\u001b[1;34m(data, kind, **kwargs)\u001b[0m\n\u001b[0;32m     69\u001b[0m         kwargs[\u001b[38;5;124m\"\u001b[39m\u001b[38;5;124max\u001b[39m\u001b[38;5;124m\"\u001b[39m] \u001b[38;5;241m=\u001b[39m \u001b[38;5;28mgetattr\u001b[39m(ax, \u001b[38;5;124m\"\u001b[39m\u001b[38;5;124mleft_ax\u001b[39m\u001b[38;5;124m\"\u001b[39m, ax)\n\u001b[0;32m     70\u001b[0m plot_obj \u001b[38;5;241m=\u001b[39m PLOT_CLASSES[kind](data, \u001b[38;5;241m*\u001b[39m\u001b[38;5;241m*\u001b[39mkwargs)\n\u001b[1;32m---> 71\u001b[0m plot_obj\u001b[38;5;241m.\u001b[39mgenerate()\n\u001b[0;32m     72\u001b[0m plot_obj\u001b[38;5;241m.\u001b[39mdraw()\n\u001b[0;32m     73\u001b[0m \u001b[38;5;28;01mreturn\u001b[39;00m plot_obj\u001b[38;5;241m.\u001b[39mresult\n",
      "File \u001b[1;32m~\\anaconda3\\Lib\\site-packages\\pandas\\plotting\\_matplotlib\\core.py:508\u001b[0m, in \u001b[0;36mMPLPlot.generate\u001b[1;34m(self)\u001b[0m\n\u001b[0;32m    506\u001b[0m \u001b[38;5;28;01mfor\u001b[39;00m ax \u001b[38;5;129;01min\u001b[39;00m \u001b[38;5;28mself\u001b[39m\u001b[38;5;241m.\u001b[39maxes:\n\u001b[0;32m    507\u001b[0m     \u001b[38;5;28mself\u001b[39m\u001b[38;5;241m.\u001b[39m_post_plot_logic_common(ax)\n\u001b[1;32m--> 508\u001b[0m     \u001b[38;5;28mself\u001b[39m\u001b[38;5;241m.\u001b[39m_post_plot_logic(ax, \u001b[38;5;28mself\u001b[39m\u001b[38;5;241m.\u001b[39mdata)\n",
      "File \u001b[1;32m~\\anaconda3\\Lib\\site-packages\\pandas\\plotting\\_matplotlib\\core.py:1966\u001b[0m, in \u001b[0;36mBarPlot._post_plot_logic\u001b[1;34m(self, ax, data)\u001b[0m\n\u001b[0;32m   1963\u001b[0m \u001b[38;5;28;01melse\u001b[39;00m:\n\u001b[0;32m   1964\u001b[0m     str_index \u001b[38;5;241m=\u001b[39m [pprint_thing(key) \u001b[38;5;28;01mfor\u001b[39;00m key \u001b[38;5;129;01min\u001b[39;00m \u001b[38;5;28mrange\u001b[39m(data\u001b[38;5;241m.\u001b[39mshape[\u001b[38;5;241m0\u001b[39m])]\n\u001b[1;32m-> 1966\u001b[0m s_edge \u001b[38;5;241m=\u001b[39m \u001b[38;5;28mself\u001b[39m\u001b[38;5;241m.\u001b[39max_pos[\u001b[38;5;241m0\u001b[39m] \u001b[38;5;241m-\u001b[39m \u001b[38;5;241m0.25\u001b[39m \u001b[38;5;241m+\u001b[39m \u001b[38;5;28mself\u001b[39m\u001b[38;5;241m.\u001b[39mlim_offset\n\u001b[0;32m   1967\u001b[0m e_edge \u001b[38;5;241m=\u001b[39m \u001b[38;5;28mself\u001b[39m\u001b[38;5;241m.\u001b[39max_pos[\u001b[38;5;241m-\u001b[39m\u001b[38;5;241m1\u001b[39m] \u001b[38;5;241m+\u001b[39m \u001b[38;5;241m0.25\u001b[39m \u001b[38;5;241m+\u001b[39m \u001b[38;5;28mself\u001b[39m\u001b[38;5;241m.\u001b[39mbar_width \u001b[38;5;241m+\u001b[39m \u001b[38;5;28mself\u001b[39m\u001b[38;5;241m.\u001b[39mlim_offset\n\u001b[0;32m   1969\u001b[0m \u001b[38;5;28mself\u001b[39m\u001b[38;5;241m.\u001b[39m_decorate_ticks(ax, \u001b[38;5;28mself\u001b[39m\u001b[38;5;241m.\u001b[39m_get_index_name(), str_index, s_edge, e_edge)\n",
      "\u001b[1;31mIndexError\u001b[0m: index 0 is out of bounds for axis 0 with size 0"
     ]
    },
    {
     "data": {
      "image/png": "[encoded data removed]",
      "text/plain": [
       "<Figure size 1400x600 with 1 Axes>"
      ]
     },
     "metadata": {},
     "output_type": "display_data"
    }
   ],
   "source": [
    "pickup_counts.plot(kind='bar', figsize=(14,6))\n",
    "plt.title(\"Monthly Pickup Counts\")\n",
    "plt.ylabel(\"Count\")\n",
    "plt.xticks(rotation=90)\n",
    "plt.show()"
   ]
  },
  {
   "cell_type": "code",
   "execution_count": 65,
   "id": "49d844e7-e86d-4569-8fe3-320a8103b83b",
   "metadata": {},
   "outputs": [],
   "source": [
    "#IF 'LAST_PICKUP'HAS HOUR DATA\n"
   ]
  },
  {
   "cell_type": "code",
   "execution_count": 67,
   "id": "f1edd90c-449a-4fd2-b2be-cbe09870f135",
   "metadata": {},
   "outputs": [],
   "source": [
    "df['Weekday']=df['LAST_PICKUP'].dt.day_name()\n",
    "df['Hour'] =df['LAST_PICKUP'].dt.hour"
   ]
  },
  {
   "cell_type": "code",
   "execution_count": 68,
   "id": "9db4fe91-aa6a-45b2-a069-5fb85cf2f3ff",
   "metadata": {},
   "outputs": [],
   "source": [
    "pickup_heatmap=pd.crosstab(df['Weekday'], df['Hour'])"
   ]
  },
  {
   "cell_type": "code",
   "execution_count": 69,
   "id": "49b02985-3fc8-414c-a35f-d60bf6f6c4b5",
   "metadata": {},
   "outputs": [],
   "source": [
    "#Plot Heatmap"
   ]
  },
  {
   "cell_type": "code",
   "execution_count": 71,
   "id": "65ea8fb5-9c76-45ff-b27e-c6c2057c8e62",
   "metadata": {},
   "outputs": [],
   "source": [
    "import seaborn as sns"
   ]
  },
  {
   "cell_type": "code",
   "execution_count": 72,
   "id": "011b1885-f786-4909-98ad-5f35254a5fbc",
   "metadata": {},
   "outputs": [
    {
     "ename": "ValueError",
     "evalue": "zero-size array to reduction operation fmin which has no identity",
     "output_type": "error",
     "traceback": [
      "\u001b[1;31m---------------------------------------------------------------------------\u001b[0m",
      "\u001b[1;31mValueError\u001b[0m                                Traceback (most recent call last)",
      "Cell \u001b[1;32mIn[72], line 1\u001b[0m\n\u001b[1;32m----> 1\u001b[0m sns\u001b[38;5;241m.\u001b[39mheatmap(pickup_heatmap, cmap\u001b[38;5;241m=\u001b[39m\u001b[38;5;124m\"\u001b[39m\u001b[38;5;124mYlGnBu\u001b[39m\u001b[38;5;124m\"\u001b[39m)\n\u001b[0;32m      2\u001b[0m plt\u001b[38;5;241m.\u001b[39mtitle(\u001b[38;5;124m\"\u001b[39m\u001b[38;5;124mPickups by Weekday and Hour\u001b[39m\u001b[38;5;124m\"\u001b[39m)\n\u001b[0;32m      3\u001b[0m plt\u001b[38;5;241m.\u001b[39mshow()\n",
      "File \u001b[1;32m~\\anaconda3\\Lib\\site-packages\\seaborn\\matrix.py:446\u001b[0m, in \u001b[0;36mheatmap\u001b[1;34m(data, vmin, vmax, cmap, center, robust, annot, fmt, annot_kws, linewidths, linecolor, cbar, cbar_kws, cbar_ax, square, xticklabels, yticklabels, mask, ax, **kwargs)\u001b[0m\n\u001b[0;32m    365\u001b[0m \u001b[38;5;250m\u001b[39m\u001b[38;5;124;03m\"\"\"Plot rectangular data as a color-encoded matrix.\u001b[39;00m\n\u001b[0;32m    366\u001b[0m \n\u001b[0;32m    367\u001b[0m \u001b[38;5;124;03mThis is an Axes-level function and will draw the heatmap into the\u001b[39;00m\n\u001b[1;32m   (...)\u001b[0m\n\u001b[0;32m    443\u001b[0m \n\u001b[0;32m    444\u001b[0m \u001b[38;5;124;03m\"\"\"\u001b[39;00m\n\u001b[0;32m    445\u001b[0m \u001b[38;5;66;03m# Initialize the plotter object\u001b[39;00m\n\u001b[1;32m--> 446\u001b[0m plotter \u001b[38;5;241m=\u001b[39m _HeatMapper(data, vmin, vmax, cmap, center, robust, annot, fmt,\n\u001b[0;32m    447\u001b[0m                       annot_kws, cbar, cbar_kws, xticklabels,\n\u001b[0;32m    448\u001b[0m                       yticklabels, mask)\n\u001b[0;32m    450\u001b[0m \u001b[38;5;66;03m# Add the pcolormesh kwargs here\u001b[39;00m\n\u001b[0;32m    451\u001b[0m kwargs[\u001b[38;5;124m\"\u001b[39m\u001b[38;5;124mlinewidths\u001b[39m\u001b[38;5;124m\"\u001b[39m] \u001b[38;5;241m=\u001b[39m linewidths\n",
      "File \u001b[1;32m~\\anaconda3\\Lib\\site-packages\\seaborn\\matrix.py:163\u001b[0m, in \u001b[0;36m_HeatMapper.__init__\u001b[1;34m(self, data, vmin, vmax, cmap, center, robust, annot, fmt, annot_kws, cbar, cbar_kws, xticklabels, yticklabels, mask)\u001b[0m\n\u001b[0;32m    160\u001b[0m \u001b[38;5;28mself\u001b[39m\u001b[38;5;241m.\u001b[39mylabel \u001b[38;5;241m=\u001b[39m ylabel \u001b[38;5;28;01mif\u001b[39;00m ylabel \u001b[38;5;129;01mis\u001b[39;00m \u001b[38;5;129;01mnot\u001b[39;00m \u001b[38;5;28;01mNone\u001b[39;00m \u001b[38;5;28;01melse\u001b[39;00m \u001b[38;5;124m\"\u001b[39m\u001b[38;5;124m\"\u001b[39m\n\u001b[0;32m    162\u001b[0m \u001b[38;5;66;03m# Determine good default values for the colormapping\u001b[39;00m\n\u001b[1;32m--> 163\u001b[0m \u001b[38;5;28mself\u001b[39m\u001b[38;5;241m.\u001b[39m_determine_cmap_params(plot_data, vmin, vmax,\n\u001b[0;32m    164\u001b[0m                             cmap, center, robust)\n\u001b[0;32m    166\u001b[0m \u001b[38;5;66;03m# Sort out the annotations\u001b[39;00m\n\u001b[0;32m    167\u001b[0m \u001b[38;5;28;01mif\u001b[39;00m annot \u001b[38;5;129;01mis\u001b[39;00m \u001b[38;5;28;01mNone\u001b[39;00m \u001b[38;5;129;01mor\u001b[39;00m annot \u001b[38;5;129;01mis\u001b[39;00m \u001b[38;5;28;01mFalse\u001b[39;00m:\n",
      "File \u001b[1;32m~\\anaconda3\\Lib\\site-packages\\seaborn\\matrix.py:202\u001b[0m, in \u001b[0;36m_HeatMapper._determine_cmap_params\u001b[1;34m(self, plot_data, vmin, vmax, cmap, center, robust)\u001b[0m\n\u001b[0;32m    200\u001b[0m         vmin \u001b[38;5;241m=\u001b[39m np\u001b[38;5;241m.\u001b[39mnanpercentile(calc_data, \u001b[38;5;241m2\u001b[39m)\n\u001b[0;32m    201\u001b[0m     \u001b[38;5;28;01melse\u001b[39;00m:\n\u001b[1;32m--> 202\u001b[0m         vmin \u001b[38;5;241m=\u001b[39m np\u001b[38;5;241m.\u001b[39mnanmin(calc_data)\n\u001b[0;32m    203\u001b[0m \u001b[38;5;28;01mif\u001b[39;00m vmax \u001b[38;5;129;01mis\u001b[39;00m \u001b[38;5;28;01mNone\u001b[39;00m:\n\u001b[0;32m    204\u001b[0m     \u001b[38;5;28;01mif\u001b[39;00m robust:\n",
      "File \u001b[1;32m~\\anaconda3\\Lib\\site-packages\\numpy\\lib\\nanfunctions.py:343\u001b[0m, in \u001b[0;36mnanmin\u001b[1;34m(a, axis, out, keepdims, initial, where)\u001b[0m\n\u001b[0;32m    338\u001b[0m     kwargs[\u001b[38;5;124m'\u001b[39m\u001b[38;5;124mwhere\u001b[39m\u001b[38;5;124m'\u001b[39m] \u001b[38;5;241m=\u001b[39m where\n\u001b[0;32m    340\u001b[0m \u001b[38;5;28;01mif\u001b[39;00m \u001b[38;5;28mtype\u001b[39m(a) \u001b[38;5;129;01mis\u001b[39;00m np\u001b[38;5;241m.\u001b[39mndarray \u001b[38;5;129;01mand\u001b[39;00m a\u001b[38;5;241m.\u001b[39mdtype \u001b[38;5;241m!=\u001b[39m np\u001b[38;5;241m.\u001b[39mobject_:\n\u001b[0;32m    341\u001b[0m     \u001b[38;5;66;03m# Fast, but not safe for subclasses of ndarray, or object arrays,\u001b[39;00m\n\u001b[0;32m    342\u001b[0m     \u001b[38;5;66;03m# which do not implement isnan (gh-9009), or fmin correctly (gh-8975)\u001b[39;00m\n\u001b[1;32m--> 343\u001b[0m     res \u001b[38;5;241m=\u001b[39m np\u001b[38;5;241m.\u001b[39mfmin\u001b[38;5;241m.\u001b[39mreduce(a, axis\u001b[38;5;241m=\u001b[39maxis, out\u001b[38;5;241m=\u001b[39mout, \u001b[38;5;241m*\u001b[39m\u001b[38;5;241m*\u001b[39mkwargs)\n\u001b[0;32m    344\u001b[0m     \u001b[38;5;28;01mif\u001b[39;00m np\u001b[38;5;241m.\u001b[39misnan(res)\u001b[38;5;241m.\u001b[39many():\n\u001b[0;32m    345\u001b[0m         warnings\u001b[38;5;241m.\u001b[39mwarn(\u001b[38;5;124m\"\u001b[39m\u001b[38;5;124mAll-NaN slice encountered\u001b[39m\u001b[38;5;124m\"\u001b[39m, \u001b[38;5;167;01mRuntimeWarning\u001b[39;00m,\n\u001b[0;32m    346\u001b[0m                       stacklevel\u001b[38;5;241m=\u001b[39m\u001b[38;5;241m2\u001b[39m)\n",
      "\u001b[1;31mValueError\u001b[0m: zero-size array to reduction operation fmin which has no identity"
     ]
    }
   ],
   "source": [
    "sns.heatmap(pickup_heatmap, cmap=\"YlGnBu\")\n",
    "plt.title(\"Pickups by Weekday and Hour\")\n",
    "plt.show()\n"
   ]
  },
  {
   "cell_type": "code",
   "execution_count": 73,
   "id": "a56b3a01-1549-43b4-afb6-88c56ad72dea",
   "metadata": {},
   "outputs": [
    {
     "data": {
      "text/plain": [
       "0   NaT\n",
       "1   NaT\n",
       "2   NaT\n",
       "3   NaT\n",
       "4   NaT\n",
       "5   NaT\n",
       "6   NaT\n",
       "7   NaT\n",
       "8   NaT\n",
       "9   NaT\n",
       "Name: LAST_PICKUP, dtype: datetime64[ns]"
      ]
     },
     "execution_count": 73,
     "metadata": {},
     "output_type": "execute_result"
    }
   ],
   "source": [
    "df['LAST_PICKUP'].head(10)"
   ]
  },
  {
   "cell_type": "code",
   "execution_count": 74,
   "id": "d05b268a-7aca-47c2-8276-950ad65533a4",
   "metadata": {},
   "outputs": [
    {
     "data": {
      "text/html": [
       "<div>\n",
       "<style scoped>\n",
       "    .dataframe tbody tr th:only-of-type {\n",
       "        vertical-align: middle;\n",
       "    }\n",
       "\n",
       "    .dataframe tbody tr th {\n",
       "        vertical-align: top;\n",
       "    }\n",
       "\n",
       "    .dataframe thead th {\n",
       "        text-align: right;\n",
       "    }\n",
       "</style>\n",
       "<table border=\"1\" class=\"dataframe\">\n",
       "  <thead>\n",
       "    <tr style=\"text-align: right;\">\n",
       "      <th></th>\n",
       "      <th>X</th>\n",
       "      <th>Y</th>\n",
       "      <th>OBJECTID</th>\n",
       "      <th>FEATURE_ID</th>\n",
       "      <th>NAME</th>\n",
       "      <th>ADDRESS</th>\n",
       "      <th>ADDRESS2</th>\n",
       "      <th>CITY</th>\n",
       "      <th>STATE</th>\n",
       "      <th>ZIP</th>\n",
       "      <th>...</th>\n",
       "      <th>LONGITUDE</th>\n",
       "      <th>MATCH_STATUS</th>\n",
       "      <th>PLACEMENT</th>\n",
       "      <th>CENSUS_CODE</th>\n",
       "      <th>LAST_PICKUP</th>\n",
       "      <th>LOCATION_TY</th>\n",
       "      <th>LOCATION_TH</th>\n",
       "      <th>YearMonth</th>\n",
       "      <th>Weekday</th>\n",
       "      <th>Hour</th>\n",
       "    </tr>\n",
       "  </thead>\n",
       "  <tbody>\n",
       "    <tr>\n",
       "      <th>0</th>\n",
       "      <td>-1.120834e+07</td>\n",
       "      <td>5.030051e+06</td>\n",
       "      <td>1</td>\n",
       "      <td>2093</td>\n",
       "      <td>DHL STATION</td>\n",
       "      <td>5120 EAST LEE BIRD RD</td>\n",
       "      <td>NOT AVAILABLE</td>\n",
       "      <td>NORTH PLATTE</td>\n",
       "      <td>NE</td>\n",
       "      <td>69101</td>\n",
       "      <td>...</td>\n",
       "      <td>-100.686217</td>\n",
       "      <td>OK</td>\n",
       "      <td>On Road</td>\n",
       "      <td>Not Available</td>\n",
       "      <td>NaT</td>\n",
       "      <td>Drop Box</td>\n",
       "      <td>Drop Box and Drop Off Facility</td>\n",
       "      <td>NaT</td>\n",
       "      <td>NaN</td>\n",
       "      <td>NaN</td>\n",
       "    </tr>\n",
       "    <tr>\n",
       "      <th>1</th>\n",
       "      <td>-8.043436e+06</td>\n",
       "      <td>5.299085e+06</td>\n",
       "      <td>2</td>\n",
       "      <td>2293</td>\n",
       "      <td>PC CONNECTION</td>\n",
       "      <td>450 MARLBORO ST</td>\n",
       "      <td>NOT AVAILABLE</td>\n",
       "      <td>KEENE</td>\n",
       "      <td>NH</td>\n",
       "      <td>3431</td>\n",
       "      <td>...</td>\n",
       "      <td>-72.255417</td>\n",
       "      <td>OK</td>\n",
       "      <td>Not Available</td>\n",
       "      <td>330059711001024</td>\n",
       "      <td>NaT</td>\n",
       "      <td>Drop Box</td>\n",
       "      <td>Drop Box and Drop Off Facility</td>\n",
       "      <td>NaT</td>\n",
       "      <td>NaN</td>\n",
       "      <td>NaN</td>\n",
       "    </tr>\n",
       "    <tr>\n",
       "      <th>2</th>\n",
       "      <td>-8.045972e+06</td>\n",
       "      <td>5.301971e+06</td>\n",
       "      <td>3</td>\n",
       "      <td>2294</td>\n",
       "      <td>20 CENTRAL SQ</td>\n",
       "      <td>20 CENTRAL SQ</td>\n",
       "      <td>NOT AVAILABLE</td>\n",
       "      <td>KEENE</td>\n",
       "      <td>NH</td>\n",
       "      <td>3431</td>\n",
       "      <td>...</td>\n",
       "      <td>-72.278195</td>\n",
       "      <td>OK</td>\n",
       "      <td>Not Available</td>\n",
       "      <td>330059713003015</td>\n",
       "      <td>NaT</td>\n",
       "      <td>Drop Box</td>\n",
       "      <td>Drop Box and Drop Off Facility</td>\n",
       "      <td>NaT</td>\n",
       "      <td>NaN</td>\n",
       "      <td>NaN</td>\n",
       "    </tr>\n",
       "    <tr>\n",
       "      <th>3</th>\n",
       "      <td>-8.046142e+06</td>\n",
       "      <td>5.301455e+06</td>\n",
       "      <td>4</td>\n",
       "      <td>2299</td>\n",
       "      <td>SHIPPING SHACK</td>\n",
       "      <td>63 EMERALD ST</td>\n",
       "      <td>NOT AVAILABLE</td>\n",
       "      <td>KEENE</td>\n",
       "      <td>NH</td>\n",
       "      <td>3431</td>\n",
       "      <td>...</td>\n",
       "      <td>-72.279720</td>\n",
       "      <td>OK</td>\n",
       "      <td>Not Available</td>\n",
       "      <td>330059714011009</td>\n",
       "      <td>NaT</td>\n",
       "      <td>DHL Authorized Shipping Center</td>\n",
       "      <td>DHL Authorized Shipping Center</td>\n",
       "      <td>NaT</td>\n",
       "      <td>NaN</td>\n",
       "      <td>NaN</td>\n",
       "    </tr>\n",
       "    <tr>\n",
       "      <th>4</th>\n",
       "      <td>-8.053022e+06</td>\n",
       "      <td>5.367961e+06</td>\n",
       "      <td>5</td>\n",
       "      <td>2597</td>\n",
       "      <td>CLAREMONT LOCK &amp; KEY</td>\n",
       "      <td>159 PLEASANT ST</td>\n",
       "      <td>NOT AVAILABLE</td>\n",
       "      <td>CLAREMONT</td>\n",
       "      <td>NH</td>\n",
       "      <td>3743</td>\n",
       "      <td>...</td>\n",
       "      <td>-72.341526</td>\n",
       "      <td>OK</td>\n",
       "      <td>Not Available</td>\n",
       "      <td>330199759022015</td>\n",
       "      <td>NaT</td>\n",
       "      <td>DHL Authorized Shipping Center</td>\n",
       "      <td>DHL Authorized Shipping Center</td>\n",
       "      <td>NaT</td>\n",
       "      <td>NaN</td>\n",
       "      <td>NaN</td>\n",
       "    </tr>\n",
       "  </tbody>\n",
       "</table>\n",
       "<p>5 rows × 21 columns</p>\n",
       "</div>"
      ],
      "text/plain": [
       "              X             Y  OBJECTID  FEATURE_ID                  NAME  \\\n",
       "0 -1.120834e+07  5.030051e+06         1        2093           DHL STATION   \n",
       "1 -8.043436e+06  5.299085e+06         2        2293         PC CONNECTION   \n",
       "2 -8.045972e+06  5.301971e+06         3        2294         20 CENTRAL SQ   \n",
       "3 -8.046142e+06  5.301455e+06         4        2299        SHIPPING SHACK   \n",
       "4 -8.053022e+06  5.367961e+06         5        2597  CLAREMONT LOCK & KEY   \n",
       "\n",
       "                 ADDRESS       ADDRESS2          CITY STATE    ZIP  ...  \\\n",
       "0  5120 EAST LEE BIRD RD  NOT AVAILABLE  NORTH PLATTE    NE  69101  ...   \n",
       "1        450 MARLBORO ST  NOT AVAILABLE         KEENE    NH   3431  ...   \n",
       "2          20 CENTRAL SQ  NOT AVAILABLE         KEENE    NH   3431  ...   \n",
       "3          63 EMERALD ST  NOT AVAILABLE         KEENE    NH   3431  ...   \n",
       "4        159 PLEASANT ST  NOT AVAILABLE     CLAREMONT    NH   3743  ...   \n",
       "\n",
       "    LONGITUDE  MATCH_STATUS      PLACEMENT      CENSUS_CODE LAST_PICKUP  \\\n",
       "0 -100.686217            OK        On Road    Not Available         NaT   \n",
       "1  -72.255417            OK  Not Available  330059711001024         NaT   \n",
       "2  -72.278195            OK  Not Available  330059713003015         NaT   \n",
       "3  -72.279720            OK  Not Available  330059714011009         NaT   \n",
       "4  -72.341526            OK  Not Available  330199759022015         NaT   \n",
       "\n",
       "                      LOCATION_TY                     LOCATION_TH YearMonth  \\\n",
       "0                        Drop Box  Drop Box and Drop Off Facility       NaT   \n",
       "1                        Drop Box  Drop Box and Drop Off Facility       NaT   \n",
       "2                        Drop Box  Drop Box and Drop Off Facility       NaT   \n",
       "3  DHL Authorized Shipping Center  DHL Authorized Shipping Center       NaT   \n",
       "4  DHL Authorized Shipping Center  DHL Authorized Shipping Center       NaT   \n",
       "\n",
       "  Weekday Hour  \n",
       "0     NaN  NaN  \n",
       "1     NaN  NaN  \n",
       "2     NaN  NaN  \n",
       "3     NaN  NaN  \n",
       "4     NaN  NaN  \n",
       "\n",
       "[5 rows x 21 columns]"
      ]
     },
     "execution_count": 74,
     "metadata": {},
     "output_type": "execute_result"
    }
   ],
   "source": [
    "df.head()"
   ]
  },
  {
   "cell_type": "code",
   "execution_count": 75,
   "id": "2e0a5070-81eb-46bb-8fa5-11732c1fd499",
   "metadata": {},
   "outputs": [
    {
     "name": "stdout",
     "output_type": "stream",
     "text": [
      "Index(['X', 'Y', 'OBJECTID', 'FEATURE_ID', 'NAME', 'ADDRESS', 'ADDRESS2',\n",
      "       'CITY', 'STATE', 'ZIP', 'LATITUDE', 'LONGITUDE', 'MATCH_STATUS',\n",
      "       'PLACEMENT', 'CENSUS_CODE', 'LAST_PICKUP', 'LOCATION_TY', 'LOCATION_TH',\n",
      "       'YearMonth', 'Weekday', 'Hour'],\n",
      "      dtype='object')\n"
     ]
    }
   ],
   "source": [
    "df.columns=df.columns.str.strip()\n",
    "print(df.columns)"
   ]
  },
  {
   "cell_type": "code",
   "execution_count": 76,
   "id": "b3e6d817-71f3-45db-8fcf-123b084a354c",
   "metadata": {},
   "outputs": [
    {
     "data": {
      "text/plain": [
       "0    NaT\n",
       "1    NaT\n",
       "2    NaT\n",
       "3    NaT\n",
       "4    NaT\n",
       "5    NaT\n",
       "6    NaT\n",
       "7    NaT\n",
       "8    NaT\n",
       "9    NaT\n",
       "Name: YearMonth, dtype: period[M]"
      ]
     },
     "execution_count": 76,
     "metadata": {},
     "output_type": "execute_result"
    }
   ],
   "source": [
    "df['YearMonth'].head(10)"
   ]
  },
  {
   "cell_type": "markdown",
   "id": "4bf43e12-868e-476e-9665-dbe6de854521",
   "metadata": {},
   "source": [
    "### 4.2 Dormancy Analysis"
   ]
  },
  {
   "cell_type": "code",
   "execution_count": 81,
   "id": "d717f7ce-c7a8-42c4-959d-0afb6a3cf646",
   "metadata": {},
   "outputs": [],
   "source": [
    "from datetime import datetime"
   ]
  },
  {
   "cell_type": "code",
   "execution_count": 82,
   "id": "54e8911c-30f4-4e96-aff6-aa0adfcfd2e7",
   "metadata": {},
   "outputs": [],
   "source": [
    "today= pd.to_datetime('today')\n",
    "df['DaysSinceLastPickup']=(today-df['LAST_PICKUP']).dt.days"
   ]
  },
  {
   "cell_type": "code",
   "execution_count": 83,
   "id": "01b37321-702c-4d93-902b-747c0c9b2cb6",
   "metadata": {},
   "outputs": [],
   "source": [
    "# Flag facilities dormant for 30, 60, 90+ days"
   ]
  },
  {
   "cell_type": "code",
   "execution_count": 84,
   "id": "42205467-e058-4f29-a83d-ca47129e6dd6",
   "metadata": {},
   "outputs": [],
   "source": [
    "df['Dormant_30']=df['DaysSinceLastPickup']>30\n",
    "df['Dormant_60']=df['DaysSinceLastPickup']>60\n",
    "df['Dormant_90']=df['DaysSinceLastPickup']>90"
   ]
  },
  {
   "cell_type": "code",
   "execution_count": 85,
   "id": "a96f832d-829a-436c-87b2-59634382b881",
   "metadata": {},
   "outputs": [],
   "source": [
    "#Summary"
   ]
  },
  {
   "cell_type": "code",
   "execution_count": 86,
   "id": "06a16a45-60df-425f-927d-461a9f9d09be",
   "metadata": {},
   "outputs": [
    {
     "data": {
      "text/plain": [
       "Dormant_30    0\n",
       "Dormant_60    0\n",
       "Dormant_90    0\n",
       "dtype: int64"
      ]
     },
     "execution_count": 86,
     "metadata": {},
     "output_type": "execute_result"
    }
   ],
   "source": [
    "df[['Dormant_30', 'Dormant_60', 'Dormant_90']].sum()"
   ]
  },
  {
   "cell_type": "code",
   "execution_count": null,
   "id": "829a28f0-ff43-4653-bd1e-32b0747d9091",
   "metadata": {},
   "outputs": [],
   "source": [
    "\n",
    "#### 📊 Business-Driven Recommendations\n",
    "\n",
    "---\n",
    "\n",
    "## 📌 1️⃣ Expansion Priorities\n",
    "\n",
    "- **Top Underserved MSAs:**  \n",
    "  Based on facility counts by Metropolitan Statistical Areas (MSAs) relative to population (assuming population data integration), we recommend targeting the **top 5 MSAs with the lowest facility density per capita**. These underserved areas present an opportunity to enhance last-mile delivery efficiency and customer accessibility.\n",
    "\n",
    "- **State with High Pickup Growth but Limited Facility Expansion:**  \n",
    "  From pickup activity trends (once cleaned pickup data is available), any state showing a rising trend in monthly pickup volumes without a proportional increase in facility count should be prioritized for network expansion. This strategy will help balance operational loads and reduce pickup delays in high-growth markets.\n",
    "\n",
    "---\n",
    "\n",
    "## 📌 2️⃣ Resource Allocation Optimization\n",
    "\n",
    "- **Optimal Months and Weekdays for Extra Pickup Crews:**  \n",
    "  Pickup activity patterns (as intended from the monthly and weekday pickup analysis) suggest that certain months and weekdays experience higher pickup volumes. It’s advisable to allocate extra pickup resources during:\n",
    "  - **Peak months** (typically holiday seasons: **November, December**)\n",
    "  - **High-volume weekdays** (like **Mondays and Fridays** — to be confirmed after finalizing pickup data)\n",
    "\n",
    "This would help manage operational bottlenecks and improve service reliability.\n",
    "\n",
    "---\n",
    "\n",
    "## 📌 3️⃣ Facility Type Mix Adjustments\n",
    "\n",
    "- **Urban Growth Focus:**  \n",
    "  From the type and placement distribution analysis:\n",
    "  - **Rapidly growing urban areas** should see an adjusted facility mix favoring a higher number of **Pickup Points and Stations** over Depots.  \n",
    "  - This would optimize last-mile delivery efficiency and reduce travel times for both couriers and customers in congested city areas.\n",
    "\n",
    "- **Facility Decommissioning Patterns:**  \n",
    "  Cross-tabulation of `STATUS` vs. `LOCATION_TY` highlighted facility types and placements prone to higher decommissioning rates. Future planning should limit investments in those categories while focusing on scalable facility types in growth markets.\n",
    "\n",
    "---\n",
    "\n",
    "## 📌 Final Notes:\n",
    "\n",
    "- Integrating **current population data and finalized pickup time data** will refine these insights.\n",
    "- Periodic **data quality audits** should be performed to ensure accurate facility geolocations and operational status updates.\n",
    "- Future analysis could also include **cost per pickup trends by region** to prioritize expansion based on profitability.\n",
    "\n",
    "---\n"
   ]
  }
 ],
 "metadata": {
  "kernelspec": {
   "display_name": "Python 3 (ipykernel)",
   "language": "python",
   "name": "python3"
  },
  "language_info": {
   "codemirror_mode": {
    "name": "ipython",
    "version": 3
   },
   "file_extension": ".py",
   "mimetype": "text/x-python",
   "name": "python",
   "nbconvert_exporter": "python",
   "pygments_lexer": "ipython3",
   "version": "3.12.7"
  }
 },
 "nbformat": 4,
 "nbformat_minor": 5
}
